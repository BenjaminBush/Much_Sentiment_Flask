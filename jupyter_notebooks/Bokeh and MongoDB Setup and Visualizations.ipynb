{
 "cells": [
  {
   "cell_type": "code",
   "execution_count": 1,
   "metadata": {
    "collapsed": false
   },
   "outputs": [
    {
     "ename": "ImportError",
     "evalue": "No module named bokeh.io",
     "output_type": "error",
     "traceback": [
      "\u001b[0;31m---------------------------------------------------------------------------\u001b[0m",
      "\u001b[0;31mImportError\u001b[0m                               Traceback (most recent call last)",
      "\u001b[0;32m<ipython-input-1-a03512e5dbb9>\u001b[0m in \u001b[0;36m<module>\u001b[0;34m()\u001b[0m\n\u001b[1;32m      6\u001b[0m \u001b[0;32mfrom\u001b[0m \u001b[0mdatetime\u001b[0m \u001b[0;32mimport\u001b[0m \u001b[0mdatetime\u001b[0m\u001b[0;34m\u001b[0m\u001b[0m\n\u001b[1;32m      7\u001b[0m \u001b[0;32mimport\u001b[0m \u001b[0murllib2\u001b[0m\u001b[0;34m\u001b[0m\u001b[0m\n\u001b[0;32m----> 8\u001b[0;31m \u001b[0;32mfrom\u001b[0m \u001b[0mbokeh\u001b[0m\u001b[0;34m.\u001b[0m\u001b[0mio\u001b[0m \u001b[0;32mimport\u001b[0m \u001b[0mcurdoc\u001b[0m\u001b[0;34m,\u001b[0m \u001b[0moutput_file\u001b[0m\u001b[0;34m,\u001b[0m \u001b[0mshow\u001b[0m\u001b[0;34m,\u001b[0m \u001b[0mvform\u001b[0m\u001b[0;34m,\u001b[0m \u001b[0moutput_notebook\u001b[0m\u001b[0;34m\u001b[0m\u001b[0m\n\u001b[0m\u001b[1;32m      9\u001b[0m \u001b[0;32mfrom\u001b[0m \u001b[0mbokeh\u001b[0m\u001b[0;34m.\u001b[0m\u001b[0mlayouts\u001b[0m \u001b[0;32mimport\u001b[0m \u001b[0mrow\u001b[0m\u001b[0;34m,\u001b[0m \u001b[0mcolumn\u001b[0m\u001b[0;34m\u001b[0m\u001b[0m\n\u001b[1;32m     10\u001b[0m \u001b[0;32mfrom\u001b[0m \u001b[0mbokeh\u001b[0m\u001b[0;34m.\u001b[0m\u001b[0mmodels\u001b[0m \u001b[0;32mimport\u001b[0m \u001b[0mColumnDataSource\u001b[0m\u001b[0;34m\u001b[0m\u001b[0m\n",
      "\u001b[0;31mImportError\u001b[0m: No module named bokeh.io"
     ]
    }
   ],
   "source": [
    "#!/usr/bin/env python\n",
    "# -*- coding: utf-8 -*-\n",
    "import pymongo as pm\n",
    "import pandas as pd\n",
    "import numpy as np\n",
    "from datetime import datetime\n",
    "import urllib2\n",
    "from bokeh.io import curdoc, output_file, show, vform, output_notebook\n",
    "from bokeh.layouts import row, column\n",
    "from bokeh.models import ColumnDataSource\n",
    "from bokeh.models.widgets import PreText, Select, MultiSelect, CheckboxButtonGroup\n",
    "from bokeh.plotting import figure"
   ]
  },
  {
   "cell_type": "markdown",
   "metadata": {},
   "source": [
    "### General Bokeh Workflow:\n",
    "\n",
    "- Prepare some data (in this case plain python lists).\n",
    "- Tell Bokeh where to generate output (in this case using output_file(), with the filename \"lines.html\").\n",
    "- Call figure() to create a plot with some overall options like title, tools and axes labels.\n",
    "- Add renderers (in this case, Figure.line) for our data, with visual customizations like colors, legends and widths to the plot.\n",
    "- Ask Bokeh to show() or save() the results."
   ]
  },
  {
   "cell_type": "code",
   "execution_count": null,
   "metadata": {
    "collapsed": false
   },
   "outputs": [],
   "source": [
    "mongo_uri = \"mongodb://ec2-52-38-154-245.us-west-2.compute.amazonaws.com:27017\"\n",
    "client = pm.MongoClient(mongo_uri)\n",
    "db = client['prod']"
   ]
  },
  {
   "cell_type": "code",
   "execution_count": null,
   "metadata": {
    "collapsed": false
   },
   "outputs": [],
   "source": [
    "debates = pd.DataFrame(list(db.debates.find({})))"
   ]
  },
  {
   "cell_type": "code",
   "execution_count": null,
   "metadata": {
    "collapsed": false
   },
   "outputs": [],
   "source": [
    "def lru_cache():\n",
    "    def dec(f):\n",
    "        def _(*args, **kws):\n",
    "            return f(*args, **kws)\n",
    "        return _\n",
    "    return dec"
   ]
  },
  {
   "cell_type": "code",
   "execution_count": null,
   "metadata": {
    "collapsed": false
   },
   "outputs": [],
   "source": [
    "performance = pd.DataFrame(list(db.performance.find({})))"
   ]
  },
  {
   "cell_type": "code",
   "execution_count": null,
   "metadata": {
    "collapsed": false
   },
   "outputs": [],
   "source": [
    "performance.head()"
   ]
  },
  {
   "cell_type": "code",
   "execution_count": null,
   "metadata": {
    "collapsed": true
   },
   "outputs": [],
   "source": []
  },
  {
   "cell_type": "code",
   "execution_count": null,
   "metadata": {
    "collapsed": true
   },
   "outputs": [],
   "source": [
    "data = get_data(\"performance\")"
   ]
  },
  {
   "cell_type": "code",
   "execution_count": null,
   "metadata": {
    "collapsed": false
   },
   "outputs": [],
   "source": [
    "data"
   ]
  },
  {
   "cell_type": "code",
   "execution_count": null,
   "metadata": {
    "collapsed": true
   },
   "outputs": [],
   "source": []
  },
  {
   "cell_type": "code",
   "execution_count": null,
   "metadata": {
    "collapsed": false
   },
   "outputs": [],
   "source": [
    "performance_source = ColumnDataSource(data)"
   ]
  },
  {
   "cell_type": "code",
   "execution_count": null,
   "metadata": {
    "collapsed": false
   },
   "outputs": [],
   "source": []
  },
  {
   "cell_type": "code",
   "execution_count": null,
   "metadata": {
    "collapsed": false
   },
   "outputs": [],
   "source": [
    "speaker_queries = pd.DataFrame(list(db.speakers.find({})))\n",
    "names = sorted(list(name.encode('utf-8','ignore') for name in speaker_queries[\"name\"].unique()))\n",
    "states = sorted(list(state.encode('utf-8','ignore') for state in speaker_queries[\"state\"].unique()))\n",
    "years = sorted(list(set(list(str(date.year) for date in speaker_queries[::2]['year']))))"
   ]
  },
  {
   "cell_type": "code",
   "execution_count": null,
   "metadata": {
    "collapsed": false
   },
   "outputs": [],
   "source": [
    "names"
   ]
  },
  {
   "cell_type": "code",
   "execution_count": null,
   "metadata": {
    "collapsed": false
   },
   "outputs": [],
   "source": [
    "party = CheckboxButtonGroup(labels=['Republican','Democrat','Independent'], active=[0,1,2])\n",
    "name = CheckboxButtonGroup(labels=names, active=[0,1,2,3,4,5,6,7,8,9,10,11,12,13,14,15,16,17,18])\n",
    "prior_experience = CheckboxButtonGroup(labels=[\"Incumbent\", \"Challenger\"], active=[0,1])\n",
    "election_result = CheckboxButtonGroup(labels=[\"Win\",\"Lose\"], active =[0,1])\n",
    "state = CheckboxButtonGroup(labels=states, active=[0,1,2,3,4,5,6,7,8,9,10,11])\n",
    "year = CheckboxButtonGroup(labels=years, active=[0,1,2,3,4,5,6,7,8,9,10,11])"
   ]
  },
  {
   "cell_type": "code",
   "execution_count": null,
   "metadata": {
    "collapsed": false
   },
   "outputs": [],
   "source": [
    "show(year)"
   ]
  },
  {
   "cell_type": "code",
   "execution_count": null,
   "metadata": {
    "collapsed": false
   },
   "outputs": [],
   "source": [
    "output_notebook()"
   ]
  },
  {
   "cell_type": "code",
   "execution_count": null,
   "metadata": {
    "collapsed": false
   },
   "outputs": [],
   "source": [
    "name.active = [0,1]"
   ]
  },
  {
   "cell_type": "code",
   "execution_count": null,
   "metadata": {
    "collapsed": true
   },
   "outputs": [],
   "source": [
    "def speaker_filter(party_arr, prior_experience_arr, election_result_arr, name_arr, state_arr, date_max, date_min):\n",
    "    query = {}\n",
    "    query['party'] = {'$in': party_arr}\n",
    "    query['incumbent'] = {'$in': prior_experience_arr}\n",
    "    query['election_result'] = {'$in': election_result_arr}\n",
    "    query['name'] = {'$in': name_arr}\n",
    "    query['state'] = {'$in': state_arr}\n",
    "    query['year'] = {'$lt': date_max, '$gt': date_min}\n",
    "    mongo_data = list(db.speakers.find(query, {'speaker_id':1}))\n",
    "    ret_list = []\n",
    "    for val in mongo_data:\n",
    "        ret_list.append(val['speaker_id'].encode('utf-8','ignore'))\n",
    "    return ret_list"
   ]
  },
  {
   "cell_type": "code",
   "execution_count": null,
   "metadata": {
    "collapsed": false
   },
   "outputs": [],
   "source": [
    "def update_performance_data(selected=None):\n",
    "    party_arr = [party.labels[i] for i in party.active]\n",
    "    prior_experience_arr = [True if prior_experience.labels[i] == \"Incumbent\" else False for i in prior_experience.active]\n",
    "    election_result_arr = [election_result.labels[i].lower() for i in election_result.active]\n",
    "    name_arr = [name.labels[i] for i in name.active]\n",
    "    state_arr = [state.labels[i] for i in state.active]\n",
    "    date_max = datetime((max([int(year.labels[i]) for i in year.active]) + 1),1,1)\n",
    "    date_min = datetime((min([int(year.labels[i]) for i in year.active]) - 1),12,31)\n",
    "    speaker_list = speaker_filter(party_arr, prior_experience_arr, election_result_arr, name_arr, state_arr, date_max, date_min)\n",
    "    performance_data = pd.DataFrame(list(db.performance.find({'$or':[{'speakers.republican.speaker_id':{'$in': speaker_list}}, \n",
    "                                                                     {'speakers.democrat.speaker_id':{'$in': speaker_list}}, \n",
    "                                                                     {'speakers.independent.speaker_id':{'$in': speaker_list}}]})))\n",
    "    return performance_data"
   ]
  },
  {
   "cell_type": "code",
   "execution_count": null,
   "metadata": {
    "collapsed": true
   },
   "outputs": [],
   "source": [
    "def update_debate_data(selected=None):\n",
    "    party_arr = [party.labels[i] for i in party.active]\n",
    "    prior_experience_arr = [True if prior_experience.labels[i] == \"Incumbent\" else False for i in prior_experience.active]\n",
    "    election_result_arr = [election_result.labels[i].lower() for i in election_result.active]\n",
    "    name_arr = [name.labels[i] for i in name.active]\n",
    "    state_arr = [state.labels[i] for i in state.active]\n",
    "    date_max = datetime((max([int(year.labels[i]) for i in year.active]) + 1),1,1)\n",
    "    date_min = datetime((min([int(year.labels[i]) for i in year.active]) - 1),12,31)\n",
    "    speaker_list = speaker_filter(party_arr, prior_experience_arr, election_result_arr, name_arr, state_arr, date_max, date_min)\n",
    "    debate_data = pd.DataFrame(list(db.debates.find({'$or':[{'speakers.republican.speaker_id':{'$in': speaker_list}}, \n",
    "                                                                     {'speakers.democrat.speaker_id':{'$in': speaker_list}}, \n",
    "                                                                     {'speakers.independent.speaker_id':{'$in': speaker_list}}]})))\n",
    "    return debate_data"
   ]
  },
  {
   "cell_type": "code",
   "execution_count": null,
   "metadata": {
    "collapsed": true
   },
   "outputs": [],
   "source": []
  },
  {
   "cell_type": "code",
   "execution_count": null,
   "metadata": {
    "collapsed": false
   },
   "outputs": [],
   "source": [
    "x.head()"
   ]
  },
  {
   "cell_type": "code",
   "execution_count": null,
   "metadata": {
    "collapsed": false
   },
   "outputs": [],
   "source": [
    "data"
   ]
  },
  {
   "cell_type": "code",
   "execution_count": 2,
   "metadata": {
    "collapsed": true
   },
   "outputs": [],
   "source": [
    "def get_data(collection, query = {}):\n",
    "    coll = db[collection]\n",
    "    data = pd.DataFrame(list(coll.find(query)))\n",
    "    return data"
   ]
  }
 ],
 "metadata": {
  "kernelspec": {
   "display_name": "Python 2",
   "language": "python",
   "name": "python2"
  },
  "language_info": {
   "codemirror_mode": {
    "name": "ipython",
    "version": 2
   },
   "file_extension": ".py",
   "mimetype": "text/x-python",
   "name": "python",
   "nbconvert_exporter": "python",
   "pygments_lexer": "ipython2",
   "version": "2.7.12"
  }
 },
 "nbformat": 4,
 "nbformat_minor": 0
}
